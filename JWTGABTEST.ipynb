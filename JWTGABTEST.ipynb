{
 "cells": [
  {
   "cell_type": "code",
   "execution_count": 1,
   "metadata": {},
   "outputs": [],
   "source": [
    "import math as mt\n",
    "import pandas as pd\n",
    "import numpy as np\n",
    "from scipy.stats import norm\n",
    "\n",
    "import matplotlib\n",
    "import matplotlib.pyplot as plt\n",
    "pd.options.display.float_format = '{:,.2f}'.format\n",
    "\n",
    "from scipy.stats import linregress\n",
    "\n",
    "import statsmodels.api as sm\n",
    "import statsmodels.formula.api as smf"
   ]
  },
  {
   "cell_type": "code",
   "execution_count": 13,
   "metadata": {},
   "outputs": [
    {
     "data": {
      "text/html": [
       "<div>\n",
       "<style scoped>\n",
       "    .dataframe tbody tr th:only-of-type {\n",
       "        vertical-align: middle;\n",
       "    }\n",
       "\n",
       "    .dataframe tbody tr th {\n",
       "        vertical-align: top;\n",
       "    }\n",
       "\n",
       "    .dataframe thead th {\n",
       "        text-align: right;\n",
       "    }\n",
       "</style>\n",
       "<table border=\"1\" class=\"dataframe\">\n",
       "  <thead>\n",
       "    <tr style=\"text-align: right;\">\n",
       "      <th></th>\n",
       "      <th>AB_ID</th>\n",
       "      <th>USER_ID</th>\n",
       "      <th>PRICE</th>\n",
       "      <th>PRODUCT</th>\n",
       "      <th>PLATFORM</th>\n",
       "      <th>COUNTRY</th>\n",
       "    </tr>\n",
       "  </thead>\n",
       "  <tbody>\n",
       "    <tr>\n",
       "      <td>0</td>\n",
       "      <td>B</td>\n",
       "      <td>1700249429971</td>\n",
       "      <td>2.99</td>\n",
       "      <td>com.ludia.jurassicworld.hcmemauto7days</td>\n",
       "      <td>iOS</td>\n",
       "      <td>United States</td>\n",
       "    </tr>\n",
       "    <tr>\n",
       "      <td>1</td>\n",
       "      <td>B</td>\n",
       "      <td>1700282994224</td>\n",
       "      <td>9.99</td>\n",
       "      <td>com.ludia.jurassicworld.memautotrial1gr2</td>\n",
       "      <td>iOS</td>\n",
       "      <td>United States</td>\n",
       "    </tr>\n",
       "    <tr>\n",
       "      <td>2</td>\n",
       "      <td>B</td>\n",
       "      <td>1700272626787</td>\n",
       "      <td>9.99</td>\n",
       "      <td>com.ludia.jurassicworld.memauto1</td>\n",
       "      <td>iOS</td>\n",
       "      <td>United States</td>\n",
       "    </tr>\n",
       "    <tr>\n",
       "      <td>3</td>\n",
       "      <td>A</td>\n",
       "      <td>1700270789823</td>\n",
       "      <td>9.99</td>\n",
       "      <td>com.ludia.jurassicworld.memauto1</td>\n",
       "      <td>iOS</td>\n",
       "      <td>United States</td>\n",
       "    </tr>\n",
       "    <tr>\n",
       "      <td>4</td>\n",
       "      <td>A</td>\n",
       "      <td>1700290209070</td>\n",
       "      <td>9.99</td>\n",
       "      <td>com.ludia.jurassicworld.memauto1</td>\n",
       "      <td>iOS</td>\n",
       "      <td>United States</td>\n",
       "    </tr>\n",
       "  </tbody>\n",
       "</table>\n",
       "</div>"
      ],
      "text/plain": [
       "  AB_ID        USER_ID  PRICE                                   PRODUCT  \\\n",
       "0     B  1700249429971   2.99    com.ludia.jurassicworld.hcmemauto7days   \n",
       "1     B  1700282994224   9.99  com.ludia.jurassicworld.memautotrial1gr2   \n",
       "2     B  1700272626787   9.99          com.ludia.jurassicworld.memauto1   \n",
       "3     A  1700270789823   9.99          com.ludia.jurassicworld.memauto1   \n",
       "4     A  1700290209070   9.99          com.ludia.jurassicworld.memauto1   \n",
       "\n",
       "  PLATFORM        COUNTRY  \n",
       "0      iOS  United States  \n",
       "1      iOS  United States  \n",
       "2      iOS  United States  \n",
       "3      iOS  United States  \n",
       "4      iOS  United States  "
      ]
     },
     "execution_count": 13,
     "metadata": {},
     "output_type": "execute_result"
    }
   ],
   "source": [
    "df=pd.read_csv(\"C:\\\\Users\\Snow\\Desktop\\JWTG_Reports\\ABTest\\\\result.csv\")\n",
    "df.head(5)"
   ]
  },
  {
   "cell_type": "code",
   "execution_count": 17,
   "metadata": {},
   "outputs": [
    {
     "data": {
      "text/html": [
       "<div>\n",
       "<style scoped>\n",
       "    .dataframe tbody tr th:only-of-type {\n",
       "        vertical-align: middle;\n",
       "    }\n",
       "\n",
       "    .dataframe tbody tr th {\n",
       "        vertical-align: top;\n",
       "    }\n",
       "\n",
       "    .dataframe thead th {\n",
       "        text-align: right;\n",
       "    }\n",
       "</style>\n",
       "<table border=\"1\" class=\"dataframe\">\n",
       "  <thead>\n",
       "    <tr style=\"text-align: right;\">\n",
       "      <th></th>\n",
       "      <th>PRICE</th>\n",
       "    </tr>\n",
       "  </thead>\n",
       "  <tbody>\n",
       "    <tr>\n",
       "      <td>count</td>\n",
       "      <td>17,782.00</td>\n",
       "    </tr>\n",
       "    <tr>\n",
       "      <td>mean</td>\n",
       "      <td>11.13</td>\n",
       "    </tr>\n",
       "    <tr>\n",
       "      <td>std</td>\n",
       "      <td>16.35</td>\n",
       "    </tr>\n",
       "    <tr>\n",
       "      <td>min</td>\n",
       "      <td>0.00</td>\n",
       "    </tr>\n",
       "    <tr>\n",
       "      <td>25%</td>\n",
       "      <td>1.99</td>\n",
       "    </tr>\n",
       "    <tr>\n",
       "      <td>50%</td>\n",
       "      <td>6.99</td>\n",
       "    </tr>\n",
       "    <tr>\n",
       "      <td>75%</td>\n",
       "      <td>9.99</td>\n",
       "    </tr>\n",
       "    <tr>\n",
       "      <td>max</td>\n",
       "      <td>99.99</td>\n",
       "    </tr>\n",
       "  </tbody>\n",
       "</table>\n",
       "</div>"
      ],
      "text/plain": [
       "          PRICE\n",
       "count 17,782.00\n",
       "mean      11.13\n",
       "std       16.35\n",
       "min        0.00\n",
       "25%        1.99\n",
       "50%        6.99\n",
       "75%        9.99\n",
       "max       99.99"
      ]
     },
     "execution_count": 17,
     "metadata": {},
     "output_type": "execute_result"
    }
   ],
   "source": [
    "df.USER_ID=df.USER_ID.apply(str)\n",
    "\n",
    "df.describe()"
   ]
  },
  {
   "cell_type": "code",
   "execution_count": 18,
   "metadata": {},
   "outputs": [
    {
     "name": "stdout",
     "output_type": "stream",
     "text": [
      "nb unique spender: 7828\n",
      "nb purchases: 17782\n"
     ]
    }
   ],
   "source": [
    "print('nb unique spender:', df.USER_ID.nunique())\n",
    "print('nb purchases:', df.PRICE.count())"
   ]
  },
  {
   "cell_type": "code",
   "execution_count": 35,
   "metadata": {},
   "outputs": [
    {
     "name": "stdout",
     "output_type": "stream",
     "text": [
      "Number of Unique Spenders: 7828 \n",
      "\n",
      "Number of Purchases \n",
      " B    9017\n",
      "A    8765\n",
      "Name: AB_ID, dtype: int64 \n",
      "\n",
      "Sum of Purchases \n",
      " PLATFORM  AB_ID\n",
      "Android   A       29,197.96\n",
      "          B       32,684.20\n",
      "iOS       A       73,325.09\n",
      "          B       62,626.44\n",
      "Name: PRICE, dtype: float64 \n",
      "\n",
      "AVG Amount of Purchase by Test Groups \n",
      " \n",
      "        PRICE\n",
      "AB_ID       \n",
      "A      11.70\n",
      "B      10.57 \n",
      " \n",
      "\n",
      "AVG Amount of Purchase by Test Groups And Platforms \n",
      " \n",
      " PLATFORM  AB_ID\n",
      "Android   A       10.42\n",
      "          B       10.28\n",
      "iOS       A       12.29\n",
      "          B       10.73\n",
      "Name: PRICE, dtype: float64 \n",
      " \n",
      "\n"
     ]
    }
   ],
   "source": [
    "\n",
    "print('Number of Unique Spenders:', df['USER_ID'].nunique(), \"\\n\" )\n",
    "\n",
    "print('Number of Purchases',\"\\n\",df['AB_ID'].value_counts(),\"\\n\" )\n",
    "\n",
    "print('Sum of Purchases',\"\\n\",df.groupby(['PLATFORM','AB_ID'])['PRICE'].sum(),\"\\n\" )\n",
    "\n",
    "print('AVG Amount of Purchase by Test Groups', \"\\n\", \"\\n\", df.groupby('AB_ID').agg({'PRICE':'mean'}),\"\\n\" ,\"\\n\" )\n",
    "\n",
    "\n",
    "print('AVG Amount of Purchase by Test Groups And Platforms',\"\\n\",\"\\n\", df.groupby(['PLATFORM', 'AB_ID'])['PRICE'].mean(),\"\\n\",\"\\n\"  )\n",
    "\n"
   ]
  },
  {
   "cell_type": "code",
   "execution_count": 28,
   "metadata": {},
   "outputs": [
    {
     "ename": "SyntaxError",
     "evalue": "invalid syntax (<ipython-input-28-81ede511fd07>, line 5)",
     "output_type": "error",
     "traceback": [
      "\u001b[1;36m  File \u001b[1;32m\"<ipython-input-28-81ede511fd07>\"\u001b[1;36m, line \u001b[1;32m5\u001b[0m\n\u001b[1;33m    df_2 = df.loc[ (df['PLATFORM'] == 'Android')\u001b[0m\n\u001b[1;37m       ^\u001b[0m\n\u001b[1;31mSyntaxError\u001b[0m\u001b[1;31m:\u001b[0m invalid syntax\n"
     ]
    }
   ],
   "source": [
    "\n",
    "from scipy.stats import ttest_ind\n",
    "\n",
    "df_1 = df.loc[ (df['PLATFORM'] == 'iOS') \n",
    "\n",
    "df_2 = df.loc[ (df['PLATFORM'] == 'Android') \n",
    "\n",
    "\n",
    "c1 = df[df['AB_ID']=='A']\n",
    "c2 = df[df['AB_ID']=='B']\n",
    "print( ttest_ind(c1['PRICE'], c2['PRICE']) )"
   ]
  },
  {
   "cell_type": "code",
   "execution_count": 39,
   "metadata": {},
   "outputs": [
    {
     "name": "stdout",
     "output_type": "stream",
     "text": [
      "Ttest_indResult(statistic=4.976462676943382, pvalue=6.567033693397544e-07)\n",
      "Ttest_indResult(statistic=0.3829637863145753, pvalue=0.7017602292553081)\n"
     ]
    }
   ],
   "source": [
    "from scipy.stats import ttest_ind\n",
    "\n",
    "df_1 = df.loc[ (df['PLATFORM'] == 'iOS')]\n",
    "\n",
    "\n",
    "df_2 = df.loc[ (df['PLATFORM'] == 'Android')]\n",
    "\n",
    "\n",
    "\n",
    "c1 = df_1[df_1['AB_ID']=='A']\n",
    "c2 = df_1[df_1['AB_ID']=='B']\n",
    "print( ttest_ind(c1['PRICE'], c2['PRICE']) )\n",
    "\n",
    "c1 = df_2[df_2['AB_ID']=='A']\n",
    "c2 = df_2[df_2['AB_ID']=='B']\n",
    "print(ttest_ind(c1['PRICE'], c2['PRICE']) )\n",
    "\n"
   ]
  }
 ],
 "metadata": {
  "kernelspec": {
   "display_name": "Python 3",
   "language": "python",
   "name": "python3"
  },
  "language_info": {
   "codemirror_mode": {
    "name": "ipython",
    "version": 3
   },
   "file_extension": ".py",
   "mimetype": "text/x-python",
   "name": "python",
   "nbconvert_exporter": "python",
   "pygments_lexer": "ipython3",
   "version": "3.7.4"
  }
 },
 "nbformat": 4,
 "nbformat_minor": 2
}
